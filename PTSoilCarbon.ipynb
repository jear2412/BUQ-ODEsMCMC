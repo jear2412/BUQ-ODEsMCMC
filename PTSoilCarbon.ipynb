{
 "cells": [
  {
   "cell_type": "code",
   "execution_count": 15,
   "metadata": {},
   "outputs": [],
   "source": [
    "import numpy as np\n",
    "import glob\n",
    "from PTMCMCSampler import PTMCMCSampler\n",
    "\n",
    "import scipy\n",
    "import scipy.stats\n",
    "from scipy.integrate import odeint\n",
    "import seaborn as sns\n",
    "import matplotlib.pyplot as plt\n",
    "import pandas as pd\n",
    "\n",
    "from numba import jit\n",
    "from matplotlib import cm\n",
    "import tensorflow as tf\n",
    "import tensorflow_probability as tfp\n",
    "tfd = tfp.distributions\n",
    "\n",
    "import timeit"
   ]
  },
  {
   "cell_type": "code",
   "execution_count": 16,
   "metadata": {},
   "outputs": [],
   "source": [
    "# Soil Carbon \n",
    "\n",
    "def Analysis(x):\n",
    "    mean=np.mean(x,0)\n",
    "    median=np.median(x,0)\n",
    "    var=np.var(x,0)\n",
    "\n",
    "    ess=np.zeros( x.shape[1])\n",
    "    for i in range( x.shape[1] ):\n",
    "      ess[i]=tfp.mcmc.effective_sample_size(  x[:,i] , filter_beyond_positive_pairs=True)\n",
    "    \n",
    "    mess=np.min(ess)\n",
    "\n",
    "    summary= {\n",
    "        \"Mean\": mean,\n",
    "        \"Median\":median,\n",
    "        \"Variance\": var,\n",
    "        \"mVar\": var/ess,\n",
    "        \"ess\": ess,\n",
    "        \"mess\":mess, #min ess\n",
    "\n",
    "        }\n",
    "    return summary"
   ]
  },
  {
   "cell_type": "code",
   "execution_count": 17,
   "metadata": {},
   "outputs": [
    {
     "data": {
      "text/plain": [
       "[<matplotlib.lines.Line2D at 0x13d788880>]"
      ]
     },
     "execution_count": 17,
     "metadata": {},
     "output_type": "execute_result"
    },
    {
     "data": {
      "image/png": "[encoded data removed]",
      "text/plain": [
       "<Figure size 432x288 with 1 Axes>"
      ]
     },
     "metadata": {
      "needs_background": "light"
     },
     "output_type": "display_data"
    }
   ],
   "source": [
    "\n",
    "data=pd.read_csv('CO2-2.csv')\n",
    "data=data.values\n",
    "\n",
    "totalC_t0=7.7 #not included in data\n",
    "t0=0\n",
    "Nt=25\n",
    "ts=data[0:25,1]\n",
    "eco2mean=data[0:25,2]\n",
    "eco2sd=data[0:25,3]\n",
    "\n",
    "\n",
    "ts=ts.astype(float)\n",
    "eco2mean=eco2mean.astype(float)\n",
    "eco2sd=eco2sd.astype(float)\n",
    "\n",
    "\n",
    "plt.plot(eco2mean,'.')\n"
   ]
  },
  {
   "cell_type": "code",
   "execution_count": 30,
   "metadata": {},
   "outputs": [],
   "source": [
    "#Functions\n",
    "\n",
    "\n",
    "def scODE( X,t, k1, k2, alpha21, alpha12):\n",
    "    dC1dt= -k1*X[0]+ alpha12*k2*X[1]\n",
    "    dC2dt= -k2*X[1]+ alpha21*k1*X[0]\n",
    "    return np.array([ dC1dt, dC2dt  ])\n",
    "\n",
    "\n",
    "class PT_target(object):\n",
    "    \n",
    "    def logL(self,theta):\n",
    "        k1,k2,alpha21, alpha12, sigma, gamma=theta \n",
    "        if( all(theta>0) and gamma<1 ):\n",
    "            X0=np.array( [ gamma*totalC_t0, (1-gamma)*totalC_t0 ] )\n",
    "            Xt = odeint( scODE, X0, ts, args=( k1, k2, alpha21, alpha12),)\n",
    "            C1t=Xt[:,0]\n",
    "            C2t=Xt[:,1]\n",
    "            eCO2hat= totalC_t0-( C1t+C2t)\n",
    "            eCO2hat[eCO2hat<0]=0\n",
    "            ll=np.sum(scipy.stats.norm.logpdf( x=eco2mean , loc=eCO2hat,scale=sigma))\n",
    "            return ll\n",
    "        else:\n",
    "            return -np.inf\n",
    "   \n",
    "    \n",
    "    \n",
    "    def log_prior(self, theta):\n",
    "        k1,k2,alpha21, alpha12, sigma, gamma=theta \n",
    "        if( all(theta>0) and gamma<1 ):\n",
    "            a=np.sum(scipy.stats.halfnorm.logpdf([k1,k2,alpha21, alpha12]))\n",
    "            b=scipy.stats.halfcauchy.logpdf(sigma)+scipy.stats.beta.logpdf(x=gamma, a=10, b=1)\n",
    "            return a+b\n",
    "        else:\n",
    "            return -np.inf\n",
    "\n",
    "def p0(size):\n",
    "    p0=scipy.stats.uniform.rvs(0, 1, size)    \n",
    "    \n",
    "    return p0\n",
    "\n",
    "\n",
    "        "
   ]
  },
  {
   "cell_type": "code",
   "execution_count": 36,
   "metadata": {},
   "outputs": [
    {
     "name": "stdout",
     "output_type": "stream",
     "text": [
      "Finished 15.00 percent in 251.414226 s Acceptance rate = 0.122353Adding DE jump with weight 50\n",
      "Finished 55.80 percent in 870.744197 s Acceptance rate = 0.104177"
     ]
    },
    {
     "name": "stderr",
     "output_type": "stream",
     "text": [
      "<ipython-input-30-29e5ff66ec79>:5: RuntimeWarning: overflow encountered in double_scalars\n",
      "  dC1dt= -k1*X[0]+ alpha12*k2*X[1]\n",
      "<ipython-input-30-29e5ff66ec79>:5: RuntimeWarning: invalid value encountered in double_scalars\n",
      "  dC1dt= -k1*X[0]+ alpha12*k2*X[1]\n",
      "<ipython-input-30-29e5ff66ec79>:20: RuntimeWarning: invalid value encountered in less\n",
      "  eCO2hat[eCO2hat<0]=0\n"
     ]
    },
    {
     "name": "stdout",
     "output_type": "stream",
     "text": [
      "Finished 99.90 percent in 1606.268845 s Acceptance rate = 0.100149\n",
      "Run Complete\n"
     ]
    }
   ],
   "source": [
    "f=PT_target()\n",
    "cov=np.diag([ 1/2,1/2,1/2,1/2,1/2,1/2])\n",
    "dim=6\n",
    "T=1000000\n",
    "bi=int(0.15*T)\n",
    "\n",
    "\n",
    "sampler = PTMCMCSampler.PTSampler(dim, f.logL , f.log_prior, np.copy(cov), outDir='PTcaseSOIL/chains', resume=False)\n",
    "\n",
    "\n",
    "initpoint=p0(6)\n",
    "sampler.sample(initpoint, T, burn= bi  , thin=1, covUpdate=1000,\n",
    "               SCAMweight=30, AMweight=20, DEweight=50, HMCweight=0, HMCsteps=0)\n",
    "   \n",
    "    \n",
    "data = np.loadtxt('PTcaseSOIL/chains/chain_1.txt') #if T is changed be sure to create new directory for chain\n",
    "PTchain = data[:,:-4]\n",
    "    \n",
    "Adata=Analysis(data)    \n",
    "   "
   ]
  },
  {
   "cell_type": "code",
   "execution_count": 37,
   "metadata": {},
   "outputs": [
    {
     "data": {
      "text/plain": [
       "{'Mean': array([  0.25195636,   0.82631323,   0.62408956,   0.71965333,\n",
       "          0.35579023,   0.9107796 , -10.25958422,  -8.98379519,\n",
       "          0.10881688,   1.        ]),\n",
       " 'Median': array([ 0.14449328,  0.68425361,  0.63432435,  0.68692327,  0.34883075,\n",
       "         0.9341419 , -9.926195  , -8.65496   ,  0.104708  ,  1.        ]),\n",
       " 'Variance': array([6.29024222e-02, 3.75335755e-01, 1.21187167e-01, 2.27028355e-01,\n",
       "        3.13997504e-03, 6.69728574e-03, 5.68919859e+00, 3.46728362e+00,\n",
       "        1.38203254e-04, 0.00000000e+00]),\n",
       " 'mVar': array([2.52718537e-04, 4.77937477e-04, 2.13129296e-04, 4.50767728e-04,\n",
       "        4.71218258e-07, 4.45388199e-06, 3.78277479e-03, 3.07150518e-04,\n",
       "        2.63345436e-05,            nan]),\n",
       " 'ess': array([2.48903080e+02, 7.85323966e+02, 5.68608675e+02, 5.03648202e+02,\n",
       "        6.66352583e+03, 1.50369627e+03, 1.50397497e+03, 1.12885488e+04,\n",
       "        5.24798363e+00,            nan]),\n",
       " 'mess': nan}"
      ]
     },
     "execution_count": 37,
     "metadata": {},
     "output_type": "execute_result"
    }
   ],
   "source": [
    "Adata"
   ]
  },
  {
   "cell_type": "code",
   "execution_count": null,
   "metadata": {},
   "outputs": [],
   "source": []
  },
  {
   "cell_type": "code",
   "execution_count": null,
   "metadata": {},
   "outputs": [],
   "source": [
    "results=pd.DataFrame( PTchain)\n",
    "sns.set()\n",
    "sns.pairplot(results, markers='.', plot_kws=dict(s=1, edgecolor=\"b\"),diag_kws=dict(bins=15) )\n",
    "plt.savefig('PTpairplot', dpi=500)"
   ]
  },
  {
   "cell_type": "code",
   "execution_count": null,
   "metadata": {},
   "outputs": [],
   "source": []
  }
 ],
 "metadata": {
  "kernelspec": {
   "display_name": "Python 3",
   "language": "python",
   "name": "python3"
  },
  "language_info": {
   "codemirror_mode": {
    "name": "ipython",
    "version": 3
   },
   "file_extension": ".py",
   "mimetype": "text/x-python",
   "name": "python",
   "nbconvert_exporter": "python",
   "pygments_lexer": "ipython3",
   "version": "3.8.0"
  }
 },
 "nbformat": 4,
 "nbformat_minor": 4
}
