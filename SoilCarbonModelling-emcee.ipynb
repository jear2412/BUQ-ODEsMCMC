{
  "nbformat": 4,
  "nbformat_minor": 0,
  "metadata": {
    "colab": {
      "name": "Untitled1.ipynb",
      "provenance": [],
      "authorship_tag": "ABX9TyNagVpooFcYwokH9OWEOqWY",
      "include_colab_link": true
    },
    "kernelspec": {
      "name": "python3",
      "display_name": "Python 3"
    }
  },
  "cells": [
    {
      "cell_type": "markdown",
      "metadata": {
        "id": "view-in-github",
        "colab_type": "text"
      },
      "source": [
        "<a href=\"https://colab.research.google.com/github/jear2412/MCMC/blob/master/SoilCarbonModelling-emcee.ipynb\" target=\"_parent\"><img src=\"https://colab.research.google.com/assets/colab-badge.svg\" alt=\"Open In Colab\"/></a>"
      ]
    },
    {
      "cell_type": "code",
      "metadata": {
        "id": "b7sXF1JX6W8E",
        "colab_type": "code",
        "colab": {}
      },
      "source": [
        "\n",
        "import pandas as pd\n",
        "import numpy as np\n",
        "import pystan\n",
        "import matplotlib.pyplot as plt\n",
        "import seaborn as sns\n",
        "import arviz as az\n",
        "import scipy\n",
        "from scipy.integrate import odeint\n",
        "from scipy.stats.mstats import mquantiles\n",
        "import emcee\n",
        "sns.set()\n",
        "\n",
        "import tensorflow as tf\n",
        "import tensorflow_probability as tfp\n",
        "tfd = tfp.distributions\n"
      ],
      "execution_count": null,
      "outputs": []
    },
    {
      "cell_type": "code",
      "metadata": {
        "id": "vEJBm1oZ6uVz",
        "colab_type": "code",
        "colab": {
          "base_uri": "https://localhost:8080/",
          "height": 285
        },
        "outputId": "6e4b0a8d-cb93-4123-ab9b-1e37c8616a78"
      },
      "source": [
        "\n",
        "\n",
        "\n",
        "data=pd.read_csv('CO2-2.csv')\n",
        "data=data.values\n",
        "\n",
        "totalC_t0=7.7 #not included in data\n",
        "t0=0\n",
        "Nt=25\n",
        "ts=data[0:25,1]\n",
        "eco2mean=data[0:25,2]\n",
        "eco2sd=data[0:25,3]\n",
        "\n",
        "\n",
        "ts=ts.astype(float)\n",
        "eco2mean=eco2mean.astype(float)\n",
        "eco2sd=eco2sd.astype(float)\n",
        "\n",
        "\n",
        "plt.plot(eco2mean,'.')\n",
        "\n",
        "\n"
      ],
      "execution_count": null,
      "outputs": [
        {
          "output_type": "execute_result",
          "data": {
            "text/plain": [
              "[<matplotlib.lines.Line2D at 0x7fe29fd2e320>]"
            ]
          },
          "metadata": {
            "tags": []
          },
          "execution_count": 7
        },
        {
          "output_type": "display_data",
          "data": {
            "image/png": "[encoded data removed]",
            "text/plain": [
              "<Figure size 432x288 with 1 Axes>"
            ]
          },
          "metadata": {
            "tags": []
          }
        }
      ]
    },
    {
      "cell_type": "code",
      "metadata": {
        "id": "UFTnTUWO62qp",
        "colab_type": "code",
        "colab": {}
      },
      "source": [
        "#Functions\n",
        "\n",
        "def pplot_trace(param, param_name='parameter'):\n",
        "    \"\"\"Plot the trace and posterior of a parameter.\"\"\"\n",
        "\n",
        "    # Summary statistics\n",
        "    mean = np.mean( param )\n",
        "    median = np.median( param )\n",
        "    cred_min, cred_max = np.percentile( param, 2.5 ), np.percentile( param, 97.5 )\n",
        "\n",
        "    # Plotting\n",
        "    plt.subplot( 2, 1, 1 )\n",
        "    plt.plot( param )\n",
        "    plt.xlabel( 'samples' )\n",
        "    plt.ylabel( param_name )\n",
        "    plt.axhline( mean, color='r', lw=2, linestyle='--' )\n",
        "    plt.axhline( median, color='c', lw=2, linestyle='--' )\n",
        "    plt.axhline( cred_min, linestyle=':', color='k', alpha=0.2 )\n",
        "    plt.axhline( cred_max, linestyle=':', color='k', alpha=0.2 )\n",
        "    plt.title( 'Trace and Posterior Distribution for {}'.format( param_name ) )\n",
        "\n",
        "    plt.subplot( 2, 1, 2 )\n",
        "    plt.hist( param, 30, density=True );\n",
        "    sns.kdeplot( param, shade=True )\n",
        "    plt.xlabel( param_name )\n",
        "    plt.ylabel( 'density' )\n",
        "    plt.axvline( mean, color='r', lw=2, linestyle='--', label='mean' )\n",
        "    plt.axvline( median, color='c', lw=2, linestyle='--', label='median' )\n",
        "    plt.axvline( cred_min, linestyle=':', color='k', alpha=0.2, label='95% CI' )\n",
        "    plt.axvline( cred_max, linestyle=':', color='k', alpha=0.2 )\n",
        "\n",
        "    plt.gcf().tight_layout()\n",
        "    plt.legend()\n",
        "\n",
        "def scODE( X,t, k1, k2, alpha21, alpha12):\n",
        "    dC1dt= -k1*X[0]+ alpha12*k2*X[1]\n",
        "    dC2dt= -k2*X[1]+ alpha21*k1*X[0]\n",
        "    return np.array([ dC1dt, dC2dt  ])\n",
        "\n",
        "\n",
        "def logPrior(theta):\n",
        "    k1,k2,alpha21, alpha12, sigma, gamma=theta \n",
        "    if( all(theta>0) and gamma<1 ):\n",
        "        a=np.sum(scipy.stats.halfnorm.logpdf([k1,k2,alpha21, alpha12]))\n",
        "        b=scipy.stats.halfcauchy.logpdf(sigma)+scipy.stats.beta.logpdf(x=gamma, a=10, b=1)\n",
        "        return a+b\n",
        "    else:\n",
        "        return -np.inf\n",
        "    \n",
        "    \n",
        "def logL(theta):\n",
        "    k1,k2,alpha21, alpha12, sigma, gamma=theta \n",
        "    X0=np.array( [ gamma*totalC_t0, (1-gamma)*totalC_t0 ] )\n",
        "    Xt = odeint( scODE, X0, ts, args=( k1, k2, alpha21, alpha12),)\n",
        "    C1t=Xt[:,0]\n",
        "    C2t=Xt[:,1]\n",
        "    eCO2hat= totalC_t0-( C1t+C2t)\n",
        "    eCO2hat[eCO2hat<0]=0\n",
        "\n",
        "    ll=np.sum(scipy.stats.norm.logpdf( x=eco2mean , loc=eCO2hat,scale=sigma))\n",
        "    return ll\n",
        "\n",
        "\n",
        "def logPosterior(theta):\n",
        "    k1,k2,alpha21, alpha12, sigma, gamma=theta \n",
        "    if( all(theta>0) and gamma<1 ):\n",
        "        temp=logPrior(theta)+logL(theta)\n",
        "        return temp\n",
        "    else:\n",
        "        return -np.inf\n",
        "    \n",
        "    \n",
        " \n",
        "\n",
        "def p0_emcee(nwalkers=1):\n",
        "    p0=scipy.stats.uniform.rvs(0, 1, [nwalkers,6])    \n",
        "    \n",
        "    return p0\n",
        "\n"
      ],
      "execution_count": null,
      "outputs": []
    },
    {
      "cell_type": "code",
      "metadata": {
        "id": "ElNhsXYQ7hGo",
        "colab_type": "code",
        "colab": {
          "base_uri": "https://localhost:8080/",
          "height": 34
        },
        "outputId": "5bda5345-cf7e-44a6-8b19-07b94584adab"
      },
      "source": [
        "import os\n",
        "\n",
        "os.environ[\"OMP_NUM_THREADS\"] = \"4\"\n",
        "\n",
        "from multiprocessing import Pool\n",
        "from multiprocessing import cpu_count\n",
        "\n",
        "ncpu = cpu_count()\n",
        "print(\"{0} CPUs\".format(ncpu))"
      ],
      "execution_count": null,
      "outputs": [
        {
          "output_type": "stream",
          "text": [
            "2 CPUs\n"
          ],
          "name": "stdout"
        }
      ]
    },
    {
      "cell_type": "code",
      "metadata": {
        "id": "oXLU1rx17C_Q",
        "colab_type": "code",
        "colab": {
          "base_uri": "https://localhost:8080/",
          "height": 34
        },
        "outputId": "4b2110b2-4b0d-4f16-d207-83579aa8cfee"
      },
      "source": [
        "#emcee\n",
        "\n",
        "nwalkers = 15\n",
        "T=100000\n",
        "\n",
        "bi=int(0.15*T)\n",
        "\n",
        "ndim=6\n",
        "\n",
        "with Pool() as pool:\n",
        "    sampler =  emcee.EnsembleSampler(nwalkers, ndim, logPosterior, pool=pool )\n",
        "    sampler.run_mcmc( p0_emcee(nwalkers) , T, progress=True)\n",
        "\n",
        "  \n",
        "\n",
        "\n"
      ],
      "execution_count": null,
      "outputs": [
        {
          "output_type": "stream",
          "text": [
            "100%|██████████| 100000/100000 [32:12<00:00, 51.76it/s]\n"
          ],
          "name": "stderr"
        }
      ]
    },
    {
      "cell_type": "code",
      "metadata": {
        "id": "b_w5N3FB7d1c",
        "colab_type": "code",
        "colab": {}
      },
      "source": [
        "\n",
        "emcee_chains = sampler.get_chain()\n",
        "samples=sampler.get_chain(flat=True)    "
      ],
      "execution_count": null,
      "outputs": []
    },
    {
      "cell_type": "code",
      "metadata": {
        "id": "Wg7bOtICDNB8",
        "colab_type": "code",
        "colab": {
          "base_uri": "https://localhost:8080/",
          "height": 285
        },
        "outputId": "ede639dc-56b0-4944-cc39-15b3ad30896e"
      },
      "source": [
        "sns.distplot(samples[:,0])"
      ],
      "execution_count": null,
      "outputs": [
        {
          "output_type": "execute_result",
          "data": {
            "text/plain": [
              "<matplotlib.axes._subplots.AxesSubplot at 0x7fe29d7c1400>"
            ]
          },
          "metadata": {
            "tags": []
          },
          "execution_count": 14
        },
        {
          "output_type": "display_data",
          "data": {
            "image/png": "[encoded data removed]",
            "text/plain": [
              "<Figure size 432x288 with 1 Axes>"
            ]
          },
          "metadata": {
            "tags": []
          }
        }
      ]
    },
    {
      "cell_type": "code",
      "metadata": {
        "id": "Wz0AOPW3DRX6",
        "colab_type": "code",
        "colab": {
          "base_uri": "https://localhost:8080/",
          "height": 285
        },
        "outputId": "5098f90c-2a3a-4109-d465-fee74ea4e3b7"
      },
      "source": [
        "sns.distplot(samples[:,1])"
      ],
      "execution_count": null,
      "outputs": [
        {
          "output_type": "execute_result",
          "data": {
            "text/plain": [
              "<matplotlib.axes._subplots.AxesSubplot at 0x7fe29d556be0>"
            ]
          },
          "metadata": {
            "tags": []
          },
          "execution_count": 15
        },
        {
          "output_type": "display_data",
          "data": {
            "image/png": "[encoded data removed]",
            "text/plain": [
              "<Figure size 432x288 with 1 Axes>"
            ]
          },
          "metadata": {
            "tags": []
          }
        }
      ]
    },
    {
      "cell_type": "code",
      "metadata": {
        "id": "x9AkdAjcDUEk",
        "colab_type": "code",
        "colab": {
          "base_uri": "https://localhost:8080/",
          "height": 285
        },
        "outputId": "7959031c-3e0a-4a58-dfaa-cfb1a18e6c87"
      },
      "source": [
        "sns.distplot(samples[:,2])"
      ],
      "execution_count": null,
      "outputs": [
        {
          "output_type": "execute_result",
          "data": {
            "text/plain": [
              "<matplotlib.axes._subplots.AxesSubplot at 0x7fe29d4355c0>"
            ]
          },
          "metadata": {
            "tags": []
          },
          "execution_count": 16
        },
        {
          "output_type": "display_data",
          "data": {
            "image/png": "[encoded data removed]",
            "text/plain": [
              "<Figure size 432x288 with 1 Axes>"
            ]
          },
          "metadata": {
            "tags": []
          }
        }
      ]
    },
    {
      "cell_type": "code",
      "metadata": {
        "id": "Iq4RxEWsDW3z",
        "colab_type": "code",
        "colab": {
          "base_uri": "https://localhost:8080/",
          "height": 285
        },
        "outputId": "7f8acaa3-19a2-4d21-a6f6-07e9c98b07cd"
      },
      "source": [
        "sns.distplot(samples[:,3])"
      ],
      "execution_count": null,
      "outputs": [
        {
          "output_type": "execute_result",
          "data": {
            "text/plain": [
              "<matplotlib.axes._subplots.AxesSubplot at 0x7fe29d533828>"
            ]
          },
          "metadata": {
            "tags": []
          },
          "execution_count": 17
        },
        {
          "output_type": "display_data",
          "data": {
            "image/png": "[encoded data removed]",
            "text/plain": [
              "<Figure size 432x288 with 1 Axes>"
            ]
          },
          "metadata": {
            "tags": []
          }
        }
      ]
    },
    {
      "cell_type": "code",
      "metadata": {
        "id": "0htNdSrXDXp9",
        "colab_type": "code",
        "colab": {
          "base_uri": "https://localhost:8080/",
          "height": 285
        },
        "outputId": "e5e139d6-2bf5-48d0-e186-ebc73b63db3b"
      },
      "source": [
        "sns.distplot(samples[:,4])"
      ],
      "execution_count": null,
      "outputs": [
        {
          "output_type": "execute_result",
          "data": {
            "text/plain": [
              "<matplotlib.axes._subplots.AxesSubplot at 0x7fe29d428128>"
            ]
          },
          "metadata": {
            "tags": []
          },
          "execution_count": 18
        },
        {
          "output_type": "display_data",
          "data": {
            "image/png": "[encoded data removed]",
            "text/plain": [
              "<Figure size 432x288 with 1 Axes>"
            ]
          },
          "metadata": {
            "tags": []
          }
        }
      ]
    },
    {
      "cell_type": "code",
      "metadata": {
        "id": "J0OP2z1RDYcu",
        "colab_type": "code",
        "colab": {
          "base_uri": "https://localhost:8080/",
          "height": 285
        },
        "outputId": "2c56089d-6972-446a-adfb-05c21e7ce5aa"
      },
      "source": [
        "sns.distplot(samples[:,5])"
      ],
      "execution_count": null,
      "outputs": [
        {
          "output_type": "execute_result",
          "data": {
            "text/plain": [
              "<matplotlib.axes._subplots.AxesSubplot at 0x7fe29d7b7080>"
            ]
          },
          "metadata": {
            "tags": []
          },
          "execution_count": 19
        },
        {
          "output_type": "display_data",
          "data": {
            "image/png": "[encoded data removed]",
            "text/plain": [
              "<Figure size 432x288 with 1 Axes>"
            ]
          },
          "metadata": {
            "tags": []
          }
        }
      ]
    },
    {
      "cell_type": "code",
      "metadata": {
        "id": "gtP_CXMZE6Xp",
        "colab_type": "code",
        "colab": {}
      },
      "source": [
        "k1=samples[bi:,0]\n",
        "k2=samples[bi:,1]\n",
        "alpha21=samples[bi:,2]\n",
        "alpha12=samples[bi:,3]\n",
        "sigma=samples[bi:,4]\n",
        "gamma=samples[bi:,5]"
      ],
      "execution_count": null,
      "outputs": []
    },
    {
      "cell_type": "code",
      "metadata": {
        "id": "3ceyhcHZDZM8",
        "colab_type": "code",
        "colab": {
          "base_uri": "https://localhost:8080/",
          "height": 121
        },
        "outputId": "b6b93b35-b880-48e3-dec0-9f7dea8c5bfc"
      },
      "source": [
        "print('k1 ', np.median(k1)      )\n",
        "print('k2 ', np.median(k2)      )\n",
        "print('alpha21 ', np.median(alpha21)      )\n",
        "print('alpha12 ', np.median(alpha12)      )\n",
        "print('sigma ', np.median(sigma)      )\n",
        "print('gamma ', np.median(gamma)      )"
      ],
      "execution_count": null,
      "outputs": [
        {
          "output_type": "stream",
          "text": [
            "k1  0.12727379750545934\n",
            "k2  0.6883045717426671\n",
            "alpha21  0.589113180204859\n",
            "alpha12  0.6727795431984966\n",
            "sigma  0.35026912970088664\n",
            "gamma  0.9355290027531235\n"
          ],
          "name": "stdout"
        }
      ]
    },
    {
      "cell_type": "code",
      "metadata": {
        "id": "ySegLQHxIqax",
        "colab_type": "code",
        "colab": {
          "base_uri": "https://localhost:8080/",
          "height": 301
        },
        "outputId": "ff35deb7-5f6a-49e9-eaff-d552b682cdb5"
      },
      "source": [
        "#medians\n",
        "mk1=np.median(k1)\n",
        "mk2=np.median(k2)\n",
        "malpha21=np.median(alpha21)\n",
        "malpha12=np.median(alpha12)\n",
        "msigma=np.median(sigma)\n",
        "mgamma=np.median(gamma)\n",
        "\n",
        "#quantiles\n",
        "\n",
        "\n",
        "\n",
        "\n",
        "X0=np.array( [  mgamma*totalC_t0, (1-mgamma)*totalC_t0  ]  )\n",
        "Xt= odeint( scODE, X0, ts, args=(  mk1,mk2,malpha21, malpha12, ))\n",
        "C1t=Xt[:,0]\n",
        "C2t=Xt[:,1]\n",
        "eCO2hat= totalC_t0-( C1t+C2t)\n",
        "\n",
        "\n",
        "\n",
        "plt.plot(ts, eCO2hat  , label='Posterior median' )\n",
        "plt.plot(ts, eco2mean  , '.' ,label='Observed' )\n",
        "#plt.fill_between( times, q1, q2 , alpha=0.6, color='red')\n",
        "plt.xlabel( r'$t$' )\n",
        "plt.ylabel( r'Evolved CO2' )\n",
        "plt.title( 'Credibility bands eC02' )\n",
        "plt.legend()\n",
        "plt.savefig( 'eCO2-posteriormean.png', dpi=500  )\n",
        "plt.show()\n",
        "\n"
      ],
      "execution_count": null,
      "outputs": [
        {
          "output_type": "display_data",
          "data": {
            "image/png": "[encoded data removed]",
            "text/plain": [
              "<Figure size 432x288 with 1 Axes>"
            ]
          },
          "metadata": {
            "tags": []
          }
        }
      ]
    },
    {
      "cell_type": "code",
      "metadata": {
        "id": "I8oLjbvyNonS",
        "colab_type": "code",
        "colab": {}
      },
      "source": [
        "\n",
        "\n",
        "def Analysis(x):\n",
        "    mean=np.mean(x,0)\n",
        "    median=np.median(x,0)\n",
        "    var=np.var(x,0)\n",
        "\n",
        "    ess=np.zeros( x.shape[1])\n",
        "    for i in range( x.shape[1] ):\n",
        "      ess[i]=tfp.mcmc.effective_sample_size(  x[:,i] , filter_beyond_positive_pairs=True)\n",
        "    \n",
        "    mess=np.min(ess)\n",
        "\n",
        "    summary= {\n",
        "        \"Mean\": mean,\n",
        "        \"Median\":median,\n",
        "        \"Variance\": var,\n",
        "        \"mVar\": var/ess,\n",
        "        \"ess\": ess,\n",
        "        \"mess\":mess, #min ess\n",
        "\n",
        "        }\n",
        "    return summary"
      ],
      "execution_count": null,
      "outputs": []
    },
    {
      "cell_type": "code",
      "metadata": {
        "id": "14YmBwtMOG7y",
        "colab_type": "code",
        "colab": {}
      },
      "source": [
        "AnalysisSamples=Analysis(samples)\n"
      ],
      "execution_count": null,
      "outputs": []
    },
    {
      "cell_type": "code",
      "metadata": {
        "id": "9fR9I-AJOhrv",
        "colab_type": "code",
        "colab": {
          "base_uri": "https://localhost:8080/",
          "height": 52
        },
        "outputId": "39562500-be75-4060-e7a0-4eadf548f0c9"
      },
      "source": [
        "print(AnalysisSamples['ess'])"
      ],
      "execution_count": null,
      "outputs": [
        {
          "output_type": "stream",
          "text": [
            "[ 343091.80115993 1381655.84011225 1319959.98978117 1372744.52379222\n",
            "    2593.21289329    9341.44842374]\n"
          ],
          "name": "stdout"
        }
      ]
    },
    {
      "cell_type": "code",
      "metadata": {
        "id": "6hcQeBgzPDTa",
        "colab_type": "code",
        "colab": {
          "base_uri": "https://localhost:8080/",
          "height": 52
        },
        "outputId": "790713b3-945b-4826-b093-a9f472a0ec7e"
      },
      "source": [
        " sampler.get_autocorr_time(tol=0)"
      ],
      "execution_count": null,
      "outputs": [
        {
          "output_type": "execute_result",
          "data": {
            "text/plain": [
              "array([4502.14296121, 1374.33248122, 1707.00965522, 1096.22609617,\n",
              "        839.78804574, 1245.88632178])"
            ]
          },
          "metadata": {
            "tags": []
          },
          "execution_count": 47
        }
      ]
    },
    {
      "cell_type": "code",
      "metadata": {
        "id": "elrMb_pUPwg-",
        "colab_type": "code",
        "colab": {}
      },
      "source": [
        ""
      ],
      "execution_count": null,
      "outputs": []
    }
  ]
}